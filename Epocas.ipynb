{
 "cells": [
  {
   "cell_type": "code",
   "execution_count": 1,
   "metadata": {},
   "outputs": [],
   "source": [
    "import math\n",
    "from numpy import concatenate\n",
    "from pandas import read_csv\n",
    "from pandas import DataFrame\n",
    "from pandas import concat\n",
    "from sklearn.preprocessing import MinMaxScaler\n",
    "from sklearn.metrics import mean_squared_error\n",
    "from keras.models import Sequential\n",
    "from keras.layers import Dense\n",
    "from keras.layers import LSTM\n",
    "import matplotlib.pyplot as plt\n",
    "import numpy as np\n"
   ]
  },
  {
   "cell_type": "code",
   "execution_count": 8,
   "metadata": {},
   "outputs": [],
   "source": [
    "def Iteration(Epochs):\n",
    "    List_Epochs=[]\n",
    "    for i in range(1,11):\n",
    "        dataset = read_csv('Datos_Columna.csv', header=0, index_col=0,nrows=251)\n",
    "        dataset = dataset[[\"Acetona %w\",\"Etanol %w\",\"Butanol %w\",\"Reflujo\",\"Carga térmica\"]]\n",
    "        values = dataset.values\n",
    "        # convert series to supervised learning\n",
    "        def series_to_supervised(data, n_in=1, n_out=1, dropnan=True):\n",
    "            n_vars = 1 if type(data) is list else data.shape[1]\n",
    "            df = DataFrame(data)\n",
    "            cols, names = list(), list()\n",
    "            # input sequence (t-n, ... t-1)\n",
    "            for i in range(n_in, 0, -1):\n",
    "                cols.append(df.shift(i))\n",
    "                names += [('var%d(t-%d)' % (j+1, i)) for j in range(n_vars)]\n",
    "            # forecast sequence (t, t+1, ... t+n)\n",
    "            for i in range(0, n_out):\n",
    "                cols.append(df.shift(-i))\n",
    "                if i == 0:\n",
    "                    names += [('var%d(t)' % (j+1)) for j in range(n_vars)]\n",
    "                else:\n",
    "                    names += [('var%d(t+%d)' % (j+1, i)) for j in range(n_vars)]\n",
    "            # put it all together\n",
    "            agg = concat(cols, axis=1)\n",
    "            agg.columns = names\n",
    "            # drop rows with NaN values\n",
    "            if dropnan:\n",
    "                agg.dropna(inplace=True)\n",
    "            return agg\n",
    "\n",
    "\n",
    "        # asegurarse de que todos los datos son tipo float\n",
    "        values = values.astype('float32')\n",
    "        # normalizar datos\n",
    "        scaler = MinMaxScaler(feature_range=(0, 1))\n",
    "        scaled = scaler.fit_transform(values)\n",
    "        # especificar el número de horas de retrazo\n",
    "        n_lag = 5\n",
    "        n_features = 5\n",
    "        # frame as supervised learning\n",
    "        reframed = series_to_supervised(scaled, n_lag, 1)\n",
    "        # Dividir en entrenamiento y prueba\n",
    "        values = reframed.values\n",
    "        n_train_index =61\n",
    "        train = values[:n_train_index, :]\n",
    "        test = values[n_train_index:, :]\n",
    "        # Dividir en entradas y salidas\n",
    "        #CHANGES HERE\n",
    "        #split into input and outputs\n",
    "        n_obs = n_lag * n_features\n",
    "        train_X = train[:, :n_obs]\n",
    "        train_y = train[:, -n_features:(-n_features+3)] #+2 because of indexing madness.\n",
    "        test_X = test[:, :n_obs]\n",
    "        test_y = test[:, -n_features:(-n_features+3)]\n",
    "\n",
    "        train_X = train_X.reshape((train_X.shape[0], n_lag, n_features))\n",
    "        test_X = test_X.reshape((test_X.shape[0], n_lag, n_features))\n",
    "\n",
    "        #CAMBIOS AQUI\n",
    "\n",
    "        #design network\n",
    "        model = Sequential()\n",
    "        model.add(LSTM(5,activation='linear', input_shape=(train_X.shape[1], train_X.shape[2])))\n",
    "        model.add(Dense(3)) \n",
    "        model.compile(loss='mse', optimizer='rmsprop')\n",
    "\n",
    "        #fit network\n",
    "        history = model.fit(train_X, train_y, epochs=Epochs, batch_size=32, validation_data=(test_X, test_y), verbose=0, shuffle=False)\n",
    "\n",
    "        #make a prediction\n",
    "        y_hat = model.predict(test_X)\n",
    "\n",
    "        #CHANGES HERE\n",
    "        test_X = test_X.reshape((test_X.shape[0], n_lag*n_features))\n",
    "        inv_yhat = concatenate((y_hat, test_X[:,-2:]), axis=1) #changed 7 to 6\n",
    "        inv_yhat = scaler.inverse_transform(inv_yhat)\n",
    "        inv_yhat = inv_yhat[:,0:3] #changed from 0 to 0:2. Should be first 2 columns that contain the predictions\n",
    "\n",
    "        #CHANGES HERE\n",
    "        #invert scaling for actual\n",
    "        test_y = test_y.reshape((len(test_y),3)) #changed 1 to 2\n",
    "        inv_y = concatenate((test_y, test_X[:,-2:]), axis=1) #changed 7 to 6\n",
    "        inv_y = scaler.inverse_transform(inv_y)\n",
    "        inv_y = inv_y[:,0:3] #changed from 0 to 0:2. Should be first 2 columns that contain the predictions.\n",
    "        #CHANGES HERE\n",
    "        #calculate RMSE - CHANGED to output RMSE for each variable.\n",
    "\n",
    "        mse = mean_squared_error(inv_y[:,(0,1,2)], inv_yhat[:,(0,1,2)])\n",
    "        List_Epochs.append(mse)\n",
    "    return List_Epochs"
   ]
  },
  {
   "cell_type": "code",
   "execution_count": 10,
   "metadata": {},
   "outputs": [
    {
     "name": "stdout",
     "output_type": "stream",
     "text": [
      "Lista_Epochs_25\n",
      "[0.0006296551, 0.00023675343, 0.00064268894, 0.0002299004, 0.0007062798, 0.00059012795, 0.0001469123, 0.00082554715, 0.0005728978, 0.0001632645]\n",
      "PROM_Epochs_25\n",
      "0.000474402736290358\n",
      "DESV_Epochs_25\n",
      "0.00023935373\n"
     ]
    }
   ],
   "source": [
    "Lista_Epochs_25 = Iteration(25)\n",
    "PROM_Epochs_25 = sum(Lista_Epochs_25)/len(Lista_Epochs_25)\n",
    "DESV_Epochs_25 = np.std(Lista_Epochs_25)\n",
    "print('Lista_Epochs_25')\n",
    "print(Lista_Epochs_25)\n",
    "print('PROM_Epochs_25')\n",
    "print(PROM_Epochs_25)\n",
    "print('DESV_Epochs_25')\n",
    "print(DESV_Epochs_25)"
   ]
  },
  {
   "cell_type": "code",
   "execution_count": 11,
   "metadata": {},
   "outputs": [
    {
     "name": "stdout",
     "output_type": "stream",
     "text": [
      "Lista_Epochs_50\n",
      "[0.00011826135, 9.1451606e-05, 0.00042551127, 0.00012785492, 0.00013881836, 0.00015428425, 0.00047214376, 0.0002541134, 6.663464e-05, 8.4375446e-05]\n",
      "PROM_Epochs_50\n",
      "0.0001933448998897802\n",
      "DESV_Epochs_50\n",
      "0.00013713508\n"
     ]
    }
   ],
   "source": [
    "Lista_Epochs_50 = Iteration(50)\n",
    "PROM_Epochs_50 = sum(Lista_Epochs_50)/len(Lista_Epochs_50)\n",
    "DESV_Epochs_50 = np.std(Lista_Epochs_50)\n",
    "print('Lista_Epochs_50')\n",
    "print(Lista_Epochs_50)\n",
    "print('PROM_Epochs_50')\n",
    "print(PROM_Epochs_50)\n",
    "print('DESV_Epochs_50')\n",
    "print(DESV_Epochs_50)"
   ]
  },
  {
   "cell_type": "code",
   "execution_count": 12,
   "metadata": {},
   "outputs": [
    {
     "name": "stdout",
     "output_type": "stream",
     "text": [
      "Lista_Epochs_100\n",
      "[0.000119767654, 0.00010509603, 9.767821e-05, 8.725908e-05, 0.00015018795, 6.423628e-05, 4.3485936e-05, 0.00017691612, 0.00011449063, 8.08225e-05]\n",
      "PROM_Epochs_100\n",
      "0.00010399403799965512\n",
      "DESV_Epochs_100\n",
      "3.7296762e-05\n"
     ]
    }
   ],
   "source": [
    "Lista_Epochs_100 = Iteration(100)\n",
    "PROM_Epochs_100 = sum(Lista_Epochs_100)/len(Lista_Epochs_100)\n",
    "DESV_Epochs_100 = np.std(Lista_Epochs_100)\n",
    "print('Lista_Epochs_100')\n",
    "print(Lista_Epochs_100)\n",
    "print('PROM_Epochs_100')\n",
    "print(PROM_Epochs_100)\n",
    "print('DESV_Epochs_100')\n",
    "print(DESV_Epochs_100)"
   ]
  },
  {
   "cell_type": "code",
   "execution_count": 13,
   "metadata": {},
   "outputs": [
    {
     "name": "stdout",
     "output_type": "stream",
     "text": [
      "Lista_Epochs_250\n",
      "[6.9871516e-05, 3.8331502e-05, 8.13704e-05, 3.003712e-05, 2.0027508e-05, 2.9353921e-05, 1.4923189e-05, 1.9352812e-05, 4.0355633e-05, 2.0407633e-05]\n",
      "PROM_Epochs_250\n",
      "3.6403123704076276e-05\n",
      "DESV_Epochs_250\n",
      "2.127878e-05\n"
     ]
    }
   ],
   "source": [
    "Lista_Epochs_250 = Iteration(250)\n",
    "PROM_Epochs_250 = sum(Lista_Epochs_250)/len(Lista_Epochs_250)\n",
    "DESV_Epochs_250 = np.std(Lista_Epochs_250)\n",
    "print('Lista_Epochs_250')\n",
    "print(Lista_Epochs_250)\n",
    "print('PROM_Epochs_250')\n",
    "print(PROM_Epochs_250)\n",
    "print('DESV_Epochs_250')\n",
    "print(DESV_Epochs_250)"
   ]
  },
  {
   "cell_type": "code",
   "execution_count": 14,
   "metadata": {},
   "outputs": [
    {
     "name": "stdout",
     "output_type": "stream",
     "text": [
      "Lista_Epochs_500\n",
      "[6.6912166e-06, 1.2705419e-05, 1.1747317e-05, 1.6531583e-05, 7.621998e-06, 3.1342362e-05, 8.660777e-06, 1.9074434e-05, 1.562801e-05, 7.4571412e-06]\n",
      "PROM_Epochs_500\n",
      "1.3746025842920062e-05\n",
      "DESV_Epochs_500\n",
      "7.1209956e-06\n"
     ]
    }
   ],
   "source": [
    "Lista_Epochs_500 = Iteration(500)\n",
    "PROM_Epochs_500 = sum(Lista_Epochs_500)/len(Lista_Epochs_500)\n",
    "DESV_Epochs_500 = np.std(Lista_Epochs_500)\n",
    "print('Lista_Epochs_500')\n",
    "print(Lista_Epochs_500)\n",
    "print('PROM_Epochs_500')\n",
    "print(PROM_Epochs_500)\n",
    "print('DESV_Epochs_500')\n",
    "print(DESV_Epochs_500)"
   ]
  },
  {
   "cell_type": "code",
   "execution_count": 15,
   "metadata": {},
   "outputs": [
    {
     "name": "stdout",
     "output_type": "stream",
     "text": [
      "Lista_Epochs_1000\n",
      "[1.8751378e-05, 4.0049895e-06, 6.243212e-06, 5.9338813e-06, 3.6967847e-06, 1.0555826e-05, 2.0620531e-05, 2.903371e-06, 8.063912e-06, 6.847003e-06]\n",
      "PROM_Epochs_1000\n",
      "8.76208882800711e-06\n",
      "DESV_Epochs_1000\n",
      "5.871426e-06\n"
     ]
    }
   ],
   "source": [
    "Lista_Epochs_1000 = Iteration(1000)\n",
    "PROM_Epochs_1000 = sum(Lista_Epochs_1000)/len(Lista_Epochs_1000)\n",
    "DESV_Epochs_1000 = np.std(Lista_Epochs_1000)\n",
    "print('Lista_Epochs_1000')\n",
    "print(Lista_Epochs_1000)\n",
    "print('PROM_Epochs_1000')\n",
    "print(PROM_Epochs_1000)\n",
    "print('DESV_Epochs_1000')\n",
    "print(DESV_Epochs_1000)"
   ]
  },
  {
   "cell_type": "code",
   "execution_count": 16,
   "metadata": {},
   "outputs": [
    {
     "name": "stdout",
     "output_type": "stream",
     "text": [
      "Lista_Epochs_1500\n",
      "[6.1325823e-06, 7.1896043e-06, 1.5195527e-05, 7.7123195e-06, 3.7503871e-06, 5.9937397e-06, 8.861556e-06, 8.082329e-06, 7.229662e-06, 6.651589e-06]\n",
      "PROM_Epochs_1500\n",
      "7.679929672121943e-06\n",
      "DESV_Epochs_1500\n",
      "2.8323645e-06\n"
     ]
    }
   ],
   "source": [
    "Lista_Epochs_1500 = Iteration(1500)\n",
    "PROM_Epochs_1500 = sum(Lista_Epochs_1500)/len(Lista_Epochs_1500)\n",
    "DESV_Epochs_1500 = np.std(Lista_Epochs_1500)\n",
    "print('Lista_Epochs_1500')\n",
    "print(Lista_Epochs_1500)\n",
    "print('PROM_Epochs_1500')\n",
    "print(PROM_Epochs_1500)\n",
    "print('DESV_Epochs_1500')\n",
    "print(DESV_Epochs_1500)"
   ]
  },
  {
   "cell_type": "code",
   "execution_count": 17,
   "metadata": {},
   "outputs": [
    {
     "name": "stdout",
     "output_type": "stream",
     "text": [
      "Lista_Epochs_2000\n",
      "[5.660011e-06, 4.364519e-06, 3.4946606e-06, 5.864224e-06, 1.3043988e-05, 3.2420185e-06, 1.2109704e-05, 1.2872643e-05, 6.5228546e-06, 7.3454025e-06]\n",
      "PROM_Epochs_2000\n",
      "7.45200250094058e-06\n",
      "DESV_Epochs_2000\n",
      "3.6314163e-06\n"
     ]
    }
   ],
   "source": [
    "Lista_Epochs_2000 = Iteration(2000)\n",
    "PROM_Epochs_2000 = sum(Lista_Epochs_2000)/len(Lista_Epochs_2000)\n",
    "DESV_Epochs_2000 = np.std(Lista_Epochs_2000)\n",
    "print('Lista_Epochs_2000')\n",
    "print(Lista_Epochs_2000)\n",
    "print('PROM_Epochs_2000')\n",
    "print(PROM_Epochs_2000)\n",
    "print('DESV_Epochs_2000')\n",
    "print(DESV_Epochs_2000)"
   ]
  },
  {
   "cell_type": "code",
   "execution_count": 19,
   "metadata": {},
   "outputs": [
    {
     "name": "stdout",
     "output_type": "stream",
     "text": [
      "Lista_Epochs_3000\n",
      "[2.9751538e-06, 6.4528635e-06, 5.981561e-06, 6.081546e-06, 7.971453e-06, 4.4234876e-06, 6.3712487e-06, 1.3598932e-05, 5.819283e-06, 8.551031e-06]\n",
      "PROM_Epochs_3000\n",
      "6.822655973337533e-06\n",
      "DESV_Epochs_3000\n",
      "2.709025e-06\n"
     ]
    }
   ],
   "source": [
    "Lista_Epochs_3000 = Iteration(3000)\n",
    "PROM_Epochs_3000 = sum(Lista_Epochs_3000)/len(Lista_Epochs_3000)\n",
    "DESV_Epochs_3000 = np.std(Lista_Epochs_3000)\n",
    "print('Lista_Epochs_3000')\n",
    "print(Lista_Epochs_3000)\n",
    "print('PROM_Epochs_3000')\n",
    "print(PROM_Epochs_3000)\n",
    "print('DESV_Epochs_3000')\n",
    "print(DESV_Epochs_3000)"
   ]
  },
  {
   "cell_type": "code",
   "execution_count": 20,
   "metadata": {},
   "outputs": [
    {
     "name": "stdout",
     "output_type": "stream",
     "text": [
      "Lista_Epochs_5000\n",
      "[1.15545545e-05, 8.110251e-06, 3.1392617e-06, 1.0787694e-05, 7.169829e-06, 6.7328015e-06, 3.257348e-06, 1.3883594e-05, 5.6822414e-06, 1.1703305e-05]\n",
      "PROM_Epochs_5000\n",
      "8.20208799723332e-06\n",
      "DESV_Epochs_5000\n",
      "3.4946747e-06\n"
     ]
    }
   ],
   "source": [
    "Lista_Epochs_5000 = Iteration(5000)\n",
    "PROM_Epochs_5000 = sum(Lista_Epochs_5000)/len(Lista_Epochs_5000)\n",
    "DESV_Epochs_5000 = np.std(Lista_Epochs_5000)\n",
    "print('Lista_Epochs_5000')\n",
    "print(Lista_Epochs_5000)\n",
    "print('PROM_Epochs_5000')\n",
    "print(PROM_Epochs_5000)\n",
    "print('DESV_Epochs_5000')\n",
    "print(DESV_Epochs_5000)"
   ]
  },
  {
   "cell_type": "code",
   "execution_count": null,
   "metadata": {},
   "outputs": [],
   "source": [
    "Lista_Epochs_10000 = Iteration(10000)\n",
    "PROM_Epochs_10000 = sum(Lista_Epochs_10000)/len(Lista_Epochs_10000)\n",
    "DESV_Epochs_10000 = np.std(Lista_Epochs_10000)\n",
    "print('Lista_Epochs_10000')\n",
    "print(Lista_Epochs_10000)\n",
    "print('PROM_Epochs_10000')\n",
    "print(PROM_Epochs_10000)\n",
    "print('DESV_Epochs_10000s')\n",
    "print(DESV_Epochs_5000)"
   ]
  },
  {
   "cell_type": "code",
   "execution_count": 24,
   "metadata": {},
   "outputs": [],
   "source": [
    "PROM = [PROM_Epochs_25,PROM_Epochs_50,PROM_Epochs_100,PROM_Epochs_250,PROM_Epochs_500,PROM_Epochs_1000,PROM_Epochs_1500,PROM_Epochs_2000,PROM_Epochs_3000,PROM_Epochs_5000]\n",
    "DESV = [DESV_Epochs_25,DESV_Epochs_50,DESV_Epochs_100,DESV_Epochs_250,DESV_Epochs_500,DESV_Epochs_1000,DESV_Epochs_1500,DESV_Epochs_2000,DESV_Epochs_3000,DESV_Epochs_5000]"
   ]
  },
  {
   "cell_type": "code",
   "execution_count": 2,
   "metadata": {},
   "outputs": [],
   "source": [
    "PROM =[ 0.00010399403799965512, 3.6403123704076276e-05, 1.3746025842920062e-05, 8.76208882800711e-06, 7.679929672121943e-06, 7.45200250094058e-06, 6.822655973337533e-06, 8.20208799723332e-06]\n",
    "DESV =[ 3.7296762e-05, 2.127878e-05, 7.1209956e-06, 5.871426e-06, 2.8323645e-06, 3.6314163e-06, 2.709025e-06, 3.4946747e-06]"
   ]
  },
  {
   "cell_type": "code",
   "execution_count": 4,
   "metadata": {},
   "outputs": [
    {
     "data": {
      "image/png": "[encoded data removed]",
      "text/plain": [
       "<Figure size 720x360 with 1 Axes>"
      ]
     },
     "metadata": {
      "needs_background": "light"
     },
     "output_type": "display_data"
    }
   ],
   "source": [
    "#Gráfico \n",
    "#plt.title('All - ONE HIDDEN- ADAM')\n",
    "f =plt.figure(figsize = (10,5))\n",
    "plt.xlabel('Épocas')\n",
    "plt.ylabel('MSE')\n",
    "X_Epochs=[100,250,500,1000,1500,2000,3000,5000]\n",
    "MSE=PROM\n",
    "yerror=DESV\n",
    "#plt.plot(X_Neurons,MSE,'o')\n",
    "plt.errorbar(X_Epochs,MSE, marker='o',yerr=yerror,ecolor=\"black\",capsize=5)\n",
    "plt.show()"
   ]
  },
  {
   "cell_type": "code",
   "execution_count": null,
   "metadata": {},
   "outputs": [],
   "source": []
  }
 ],
 "metadata": {
  "kernelspec": {
   "display_name": "Python 3 (ipykernel)",
   "language": "python",
   "name": "python3"
  },
  "language_info": {
   "codemirror_mode": {
    "name": "ipython",
    "version": 3
   },
   "file_extension": ".py",
   "mimetype": "text/x-python",
   "name": "python",
   "nbconvert_exporter": "python",
   "pygments_lexer": "ipython3",
   "version": "3.8.8"
  }
 },
 "nbformat": 4,
 "nbformat_minor": 4
}
